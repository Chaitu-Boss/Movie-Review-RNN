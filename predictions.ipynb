{
 "cells": [
  {
   "cell_type": "code",
   "execution_count": 38,
   "metadata": {},
   "outputs": [],
   "source": [
    "import numpy as np\n",
    "import tensorflow as tf\n",
    "from tensorflow.keras.layers import Embedding,SimpleRNN,Dense\n",
    "from tensorflow.keras.models import Sequential\n",
    "from tensorflow.keras.datasets import imdb\n",
    "from tensorflow.keras.preprocessing import sequence\n",
    "from tensorflow.keras.models import load_model"
   ]
  },
  {
   "cell_type": "code",
   "execution_count": null,
   "metadata": {},
   "outputs": [],
   "source": []
  },
  {
   "cell_type": "code",
   "execution_count": 39,
   "metadata": {},
   "outputs": [],
   "source": [
    "model=load_model('rnn_model.h5')"
   ]
  },
  {
   "cell_type": "code",
   "execution_count": 40,
   "metadata": {},
   "outputs": [],
   "source": [
    "word_indexes=imdb.get_word_index()\n",
    "reverse_word_index=dict([(value,key) for (key,value) in word_indexes.items()])"
   ]
  },
  {
   "cell_type": "code",
   "execution_count": 44,
   "metadata": {},
   "outputs": [],
   "source": [
    "def decode_review(encoded_review):\n",
    "    return ' '.join([reverse_word_index.get(i - 3, '?') for i in encoded_review])\n",
    "\n",
    "def preprocess_text(text):\n",
    "    words = text.lower().split()\n",
    "    encoded_review = [word_indexes.get(word, 2) + 3 for word in words]\n",
    "    encoded_review = [min(index, 9999) for index in encoded_review]\n",
    "    padded_review = sequence.pad_sequences([encoded_review], maxlen=500)\n",
    "    return padded_review\n"
   ]
  },
  {
   "cell_type": "code",
   "execution_count": 45,
   "metadata": {},
   "outputs": [],
   "source": [
    "def sentiment(value):\n",
    "    if value<0.2:\n",
    "        return \"Very negative\"\n",
    "    elif value<0.4:\n",
    "        return \"Negative\"\n",
    "    elif value<0.6:\n",
    "        return \"Neutral\"\n",
    "    elif value<0.8:\n",
    "        return \"Positive\"\n",
    "    else:\n",
    "        return \"Very positive\"\n",
    "    \n",
    "def predict_sentiment(review):\n",
    "    preprocessed_test=preprocess_text(review)\n",
    "    prediction=model.predict(preprocessed_test)\n",
    "    user_sentiment=sentiment(prediction[0][0])\n",
    "    return user_sentiment,prediction[0][0]"
   ]
  },
  {
   "cell_type": "code",
   "execution_count": 46,
   "metadata": {},
   "outputs": [
    {
     "name": "stdout",
     "output_type": "stream",
     "text": [
      "1/1 [==============================] - 0s 85ms/step\n",
      "The sentiment of the review is Very positive\n",
      " The Prediction Value is 0.9499276876449585\n"
     ]
    }
   ],
   "source": [
    "trail_review=\"the movie was very fabulous i loved every bit of the movie and will rewatch it again\"\n",
    "user_sentiment,prediction=predict_sentiment(trail_review)\n",
    "print(f\"The sentiment of the review is {user_sentiment}\")\n",
    "print(f\" The Prediction Value is {prediction}\")"
   ]
  },
  {
   "cell_type": "code",
   "execution_count": null,
   "metadata": {},
   "outputs": [],
   "source": []
  },
  {
   "cell_type": "code",
   "execution_count": null,
   "metadata": {},
   "outputs": [],
   "source": []
  }
 ],
 "metadata": {
  "kernelspec": {
   "display_name": "python10",
   "language": "python",
   "name": "python3"
  },
  "language_info": {
   "codemirror_mode": {
    "name": "ipython",
    "version": 3
   },
   "file_extension": ".py",
   "mimetype": "text/x-python",
   "name": "python",
   "nbconvert_exporter": "python",
   "pygments_lexer": "ipython3",
   "version": "3.10.13"
  }
 },
 "nbformat": 4,
 "nbformat_minor": 2
}
